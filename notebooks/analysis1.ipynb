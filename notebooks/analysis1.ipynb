{
 "cells": [
  {
   "cell_type": "markdown",
   "metadata": {},
   "source": [
    "Zach Kelly"
   ]
  },
  {
   "cell_type": "markdown",
   "metadata": {},
   "source": [
    "## research question/interests\n",
    "\n",
    "The objective behind this repository is to train a machine learning model using a set of fighter statistics to predict score outcomes of future ufc bouts. \n",
    "\n",
    "The desired learning outcomes are the following:\n",
    "- learn how to handle large data sets with python.\n",
    "- further learn how to formulate problems concerning machine learning.  \n",
    "- further understand the challenges of training a successful machine learning model. "
   ]
  },
  {
   "cell_type": "markdown",
   "metadata": {},
   "source": [
    "## import raw data with pandas"
   ]
  },
  {
   "cell_type": "code",
   "execution_count": null,
   "metadata": {
    "vscode": {
     "languageId": "python"
    }
   },
   "outputs": [],
   "source": [
    "import numpy as np\n",
    "import pandas as pd\n",
    "\n",
    "r_data = pd.read_csv(\"raw_data.csv\")"
   ]
  }
 ],
 "metadata": {
  "language_info": {
   "name": "plaintext"
  },
  "orig_nbformat": 4
 },
 "nbformat": 4,
 "nbformat_minor": 2
}
