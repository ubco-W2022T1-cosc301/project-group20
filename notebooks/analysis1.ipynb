{
 "cells": [
  {
   "cell_type": "markdown",
   "metadata": {},
   "source": [
    "# Zach Kelly"
   ]
  },
  {
   "cell_type": "markdown",
   "metadata": {},
   "source": [
    "## research question/interests\n",
    "\n",
    "The objective behind this repository is to extract meaningful information from a ufc dataset and present it in a more easily interpreted format. \n",
    "\n",
    "The following research questions will be investigated:\n",
    "1. Fighters with most submission wins amoung all divisions.\n",
    "2. Average height in each division for both the male and female competitors.\n",
    "3. Count of fights won as a function of age for both the male and female competitors."
   ]
  },
  {
   "cell_type": "code",
   "execution_count": 1,
   "metadata": {},
   "outputs": [],
   "source": [
    "import numpy as np\n",
    "import pandas as pd\n",
    "import matplotlib.pyplot as plt\n",
    "import seaborn as sns"
   ]
  },
  {
   "cell_type": "code",
   "execution_count": 2,
   "metadata": {},
   "outputs": [
    {
     "data": {
      "text/html": [
       "<div>\n",
       "<style scoped>\n",
       "    .dataframe tbody tr th:only-of-type {\n",
       "        vertical-align: middle;\n",
       "    }\n",
       "\n",
       "    .dataframe tbody tr th {\n",
       "        vertical-align: top;\n",
       "    }\n",
       "\n",
       "    .dataframe thead th {\n",
       "        text-align: right;\n",
       "    }\n",
       "</style>\n",
       "<table border=\"1\" class=\"dataframe\">\n",
       "  <thead>\n",
       "    <tr style=\"text-align: right;\">\n",
       "      <th></th>\n",
       "      <th>R_fighter</th>\n",
       "      <th>B_fighter</th>\n",
       "      <th>Referee</th>\n",
       "      <th>date</th>\n",
       "      <th>location</th>\n",
       "      <th>Winner</th>\n",
       "      <th>title_bout</th>\n",
       "      <th>weight_class</th>\n",
       "      <th>B_avg_KD</th>\n",
       "      <th>B_avg_opp_KD</th>\n",
       "      <th>...</th>\n",
       "      <th>R_win_by_Decision_Unanimous</th>\n",
       "      <th>R_win_by_KO/TKO</th>\n",
       "      <th>R_win_by_Submission</th>\n",
       "      <th>R_win_by_TKO_Doctor_Stoppage</th>\n",
       "      <th>R_Stance</th>\n",
       "      <th>R_Height_cms</th>\n",
       "      <th>R_Reach_cms</th>\n",
       "      <th>R_Weight_lbs</th>\n",
       "      <th>B_age</th>\n",
       "      <th>R_age</th>\n",
       "    </tr>\n",
       "  </thead>\n",
       "  <tbody>\n",
       "    <tr>\n",
       "      <th>0</th>\n",
       "      <td>Adrian Yanez</td>\n",
       "      <td>Gustavo Lopez</td>\n",
       "      <td>Chris Tognoni</td>\n",
       "      <td>2021-03-20</td>\n",
       "      <td>Las Vegas, Nevada, USA</td>\n",
       "      <td>Red</td>\n",
       "      <td>False</td>\n",
       "      <td>Bantamweight</td>\n",
       "      <td>0.000</td>\n",
       "      <td>0.0</td>\n",
       "      <td>...</td>\n",
       "      <td>0</td>\n",
       "      <td>1</td>\n",
       "      <td>0</td>\n",
       "      <td>0</td>\n",
       "      <td>Orthodox</td>\n",
       "      <td>170.18</td>\n",
       "      <td>177.80</td>\n",
       "      <td>135.0</td>\n",
       "      <td>31.0</td>\n",
       "      <td>27.0</td>\n",
       "    </tr>\n",
       "    <tr>\n",
       "      <th>1</th>\n",
       "      <td>Trevin Giles</td>\n",
       "      <td>Roman Dolidze</td>\n",
       "      <td>Herb Dean</td>\n",
       "      <td>2021-03-20</td>\n",
       "      <td>Las Vegas, Nevada, USA</td>\n",
       "      <td>Red</td>\n",
       "      <td>False</td>\n",
       "      <td>Middleweight</td>\n",
       "      <td>0.500</td>\n",
       "      <td>0.0</td>\n",
       "      <td>...</td>\n",
       "      <td>0</td>\n",
       "      <td>3</td>\n",
       "      <td>0</td>\n",
       "      <td>0</td>\n",
       "      <td>Orthodox</td>\n",
       "      <td>182.88</td>\n",
       "      <td>187.96</td>\n",
       "      <td>185.0</td>\n",
       "      <td>32.0</td>\n",
       "      <td>28.0</td>\n",
       "    </tr>\n",
       "    <tr>\n",
       "      <th>2</th>\n",
       "      <td>Tai Tuivasa</td>\n",
       "      <td>Harry Hunsucker</td>\n",
       "      <td>Herb Dean</td>\n",
       "      <td>2021-03-20</td>\n",
       "      <td>Las Vegas, Nevada, USA</td>\n",
       "      <td>Red</td>\n",
       "      <td>False</td>\n",
       "      <td>Heavyweight</td>\n",
       "      <td>NaN</td>\n",
       "      <td>NaN</td>\n",
       "      <td>...</td>\n",
       "      <td>1</td>\n",
       "      <td>3</td>\n",
       "      <td>0</td>\n",
       "      <td>0</td>\n",
       "      <td>Southpaw</td>\n",
       "      <td>187.96</td>\n",
       "      <td>190.50</td>\n",
       "      <td>264.0</td>\n",
       "      <td>32.0</td>\n",
       "      <td>28.0</td>\n",
       "    </tr>\n",
       "    <tr>\n",
       "      <th>3</th>\n",
       "      <td>Cheyanne Buys</td>\n",
       "      <td>Montserrat Conejo</td>\n",
       "      <td>Mark Smith</td>\n",
       "      <td>2021-03-20</td>\n",
       "      <td>Las Vegas, Nevada, USA</td>\n",
       "      <td>Blue</td>\n",
       "      <td>False</td>\n",
       "      <td>WomenStrawweight</td>\n",
       "      <td>NaN</td>\n",
       "      <td>NaN</td>\n",
       "      <td>...</td>\n",
       "      <td>0</td>\n",
       "      <td>0</td>\n",
       "      <td>0</td>\n",
       "      <td>0</td>\n",
       "      <td>Switch</td>\n",
       "      <td>160.02</td>\n",
       "      <td>160.02</td>\n",
       "      <td>115.0</td>\n",
       "      <td>28.0</td>\n",
       "      <td>25.0</td>\n",
       "    </tr>\n",
       "    <tr>\n",
       "      <th>4</th>\n",
       "      <td>Marion Reneau</td>\n",
       "      <td>Macy Chiasson</td>\n",
       "      <td>Mark Smith</td>\n",
       "      <td>2021-03-20</td>\n",
       "      <td>Las Vegas, Nevada, USA</td>\n",
       "      <td>Blue</td>\n",
       "      <td>False</td>\n",
       "      <td>WomenBantamweight</td>\n",
       "      <td>0.125</td>\n",
       "      <td>0.0</td>\n",
       "      <td>...</td>\n",
       "      <td>1</td>\n",
       "      <td>2</td>\n",
       "      <td>2</td>\n",
       "      <td>0</td>\n",
       "      <td>Orthodox</td>\n",
       "      <td>167.64</td>\n",
       "      <td>172.72</td>\n",
       "      <td>135.0</td>\n",
       "      <td>29.0</td>\n",
       "      <td>43.0</td>\n",
       "    </tr>\n",
       "    <tr>\n",
       "      <th>...</th>\n",
       "      <td>...</td>\n",
       "      <td>...</td>\n",
       "      <td>...</td>\n",
       "      <td>...</td>\n",
       "      <td>...</td>\n",
       "      <td>...</td>\n",
       "      <td>...</td>\n",
       "      <td>...</td>\n",
       "      <td>...</td>\n",
       "      <td>...</td>\n",
       "      <td>...</td>\n",
       "      <td>...</td>\n",
       "      <td>...</td>\n",
       "      <td>...</td>\n",
       "      <td>...</td>\n",
       "      <td>...</td>\n",
       "      <td>...</td>\n",
       "      <td>...</td>\n",
       "      <td>...</td>\n",
       "      <td>...</td>\n",
       "      <td>...</td>\n",
       "    </tr>\n",
       "    <tr>\n",
       "      <th>6007</th>\n",
       "      <td>Remco Pardoel</td>\n",
       "      <td>Alberta Cerra Leon</td>\n",
       "      <td>John McCarthy</td>\n",
       "      <td>1994-03-11</td>\n",
       "      <td>Denver, Colorado, USA</td>\n",
       "      <td>Red</td>\n",
       "      <td>False</td>\n",
       "      <td>OpenWeight</td>\n",
       "      <td>NaN</td>\n",
       "      <td>NaN</td>\n",
       "      <td>...</td>\n",
       "      <td>0</td>\n",
       "      <td>0</td>\n",
       "      <td>0</td>\n",
       "      <td>0</td>\n",
       "      <td>Southpaw</td>\n",
       "      <td>190.50</td>\n",
       "      <td>NaN</td>\n",
       "      <td>260.0</td>\n",
       "      <td>NaN</td>\n",
       "      <td>NaN</td>\n",
       "    </tr>\n",
       "    <tr>\n",
       "      <th>6008</th>\n",
       "      <td>Orlando Wiet</td>\n",
       "      <td>Robert Lucarelli</td>\n",
       "      <td>John McCarthy</td>\n",
       "      <td>1994-03-11</td>\n",
       "      <td>Denver, Colorado, USA</td>\n",
       "      <td>Red</td>\n",
       "      <td>False</td>\n",
       "      <td>OpenWeight</td>\n",
       "      <td>NaN</td>\n",
       "      <td>NaN</td>\n",
       "      <td>...</td>\n",
       "      <td>0</td>\n",
       "      <td>0</td>\n",
       "      <td>0</td>\n",
       "      <td>0</td>\n",
       "      <td>Southpaw</td>\n",
       "      <td>177.80</td>\n",
       "      <td>NaN</td>\n",
       "      <td>170.0</td>\n",
       "      <td>NaN</td>\n",
       "      <td>NaN</td>\n",
       "    </tr>\n",
       "    <tr>\n",
       "      <th>6009</th>\n",
       "      <td>Johnny Rhodes</td>\n",
       "      <td>David Levicki</td>\n",
       "      <td>John McCarthy</td>\n",
       "      <td>1994-03-11</td>\n",
       "      <td>Denver, Colorado, USA</td>\n",
       "      <td>Red</td>\n",
       "      <td>False</td>\n",
       "      <td>OpenWeight</td>\n",
       "      <td>NaN</td>\n",
       "      <td>NaN</td>\n",
       "      <td>...</td>\n",
       "      <td>0</td>\n",
       "      <td>0</td>\n",
       "      <td>0</td>\n",
       "      <td>0</td>\n",
       "      <td>Orthodox</td>\n",
       "      <td>182.88</td>\n",
       "      <td>NaN</td>\n",
       "      <td>210.0</td>\n",
       "      <td>NaN</td>\n",
       "      <td>NaN</td>\n",
       "    </tr>\n",
       "    <tr>\n",
       "      <th>6010</th>\n",
       "      <td>Patrick Smith</td>\n",
       "      <td>Ray Wizard</td>\n",
       "      <td>John McCarthy</td>\n",
       "      <td>1994-03-11</td>\n",
       "      <td>Denver, Colorado, USA</td>\n",
       "      <td>Red</td>\n",
       "      <td>False</td>\n",
       "      <td>OpenWeight</td>\n",
       "      <td>NaN</td>\n",
       "      <td>NaN</td>\n",
       "      <td>...</td>\n",
       "      <td>0</td>\n",
       "      <td>0</td>\n",
       "      <td>0</td>\n",
       "      <td>0</td>\n",
       "      <td>Orthodox</td>\n",
       "      <td>187.96</td>\n",
       "      <td>NaN</td>\n",
       "      <td>225.0</td>\n",
       "      <td>NaN</td>\n",
       "      <td>30.0</td>\n",
       "    </tr>\n",
       "    <tr>\n",
       "      <th>6011</th>\n",
       "      <td>Scott Morris</td>\n",
       "      <td>Sean Daugherty</td>\n",
       "      <td>John McCarthy</td>\n",
       "      <td>1994-03-11</td>\n",
       "      <td>Denver, Colorado, USA</td>\n",
       "      <td>Red</td>\n",
       "      <td>False</td>\n",
       "      <td>OpenWeight</td>\n",
       "      <td>NaN</td>\n",
       "      <td>NaN</td>\n",
       "      <td>...</td>\n",
       "      <td>0</td>\n",
       "      <td>0</td>\n",
       "      <td>0</td>\n",
       "      <td>0</td>\n",
       "      <td>Orthodox</td>\n",
       "      <td>177.80</td>\n",
       "      <td>NaN</td>\n",
       "      <td>210.0</td>\n",
       "      <td>18.0</td>\n",
       "      <td>NaN</td>\n",
       "    </tr>\n",
       "  </tbody>\n",
       "</table>\n",
       "<p>6012 rows × 144 columns</p>\n",
       "</div>"
      ],
      "text/plain": [
       "          R_fighter           B_fighter        Referee        date  \\\n",
       "0      Adrian Yanez       Gustavo Lopez  Chris Tognoni  2021-03-20   \n",
       "1      Trevin Giles       Roman Dolidze      Herb Dean  2021-03-20   \n",
       "2       Tai Tuivasa     Harry Hunsucker      Herb Dean  2021-03-20   \n",
       "3     Cheyanne Buys   Montserrat Conejo     Mark Smith  2021-03-20   \n",
       "4     Marion Reneau       Macy Chiasson     Mark Smith  2021-03-20   \n",
       "...             ...                 ...            ...         ...   \n",
       "6007  Remco Pardoel  Alberta Cerra Leon  John McCarthy  1994-03-11   \n",
       "6008   Orlando Wiet    Robert Lucarelli  John McCarthy  1994-03-11   \n",
       "6009  Johnny Rhodes       David Levicki  John McCarthy  1994-03-11   \n",
       "6010  Patrick Smith          Ray Wizard  John McCarthy  1994-03-11   \n",
       "6011   Scott Morris      Sean Daugherty  John McCarthy  1994-03-11   \n",
       "\n",
       "                    location Winner  title_bout       weight_class  B_avg_KD  \\\n",
       "0     Las Vegas, Nevada, USA    Red       False       Bantamweight     0.000   \n",
       "1     Las Vegas, Nevada, USA    Red       False       Middleweight     0.500   \n",
       "2     Las Vegas, Nevada, USA    Red       False        Heavyweight       NaN   \n",
       "3     Las Vegas, Nevada, USA   Blue       False   WomenStrawweight       NaN   \n",
       "4     Las Vegas, Nevada, USA   Blue       False  WomenBantamweight     0.125   \n",
       "...                      ...    ...         ...                ...       ...   \n",
       "6007   Denver, Colorado, USA    Red       False         OpenWeight       NaN   \n",
       "6008   Denver, Colorado, USA    Red       False         OpenWeight       NaN   \n",
       "6009   Denver, Colorado, USA    Red       False         OpenWeight       NaN   \n",
       "6010   Denver, Colorado, USA    Red       False         OpenWeight       NaN   \n",
       "6011   Denver, Colorado, USA    Red       False         OpenWeight       NaN   \n",
       "\n",
       "      B_avg_opp_KD  ...  R_win_by_Decision_Unanimous  R_win_by_KO/TKO  \\\n",
       "0              0.0  ...                            0                1   \n",
       "1              0.0  ...                            0                3   \n",
       "2              NaN  ...                            1                3   \n",
       "3              NaN  ...                            0                0   \n",
       "4              0.0  ...                            1                2   \n",
       "...            ...  ...                          ...              ...   \n",
       "6007           NaN  ...                            0                0   \n",
       "6008           NaN  ...                            0                0   \n",
       "6009           NaN  ...                            0                0   \n",
       "6010           NaN  ...                            0                0   \n",
       "6011           NaN  ...                            0                0   \n",
       "\n",
       "      R_win_by_Submission  R_win_by_TKO_Doctor_Stoppage  R_Stance  \\\n",
       "0                       0                             0  Orthodox   \n",
       "1                       0                             0  Orthodox   \n",
       "2                       0                             0  Southpaw   \n",
       "3                       0                             0    Switch   \n",
       "4                       2                             0  Orthodox   \n",
       "...                   ...                           ...       ...   \n",
       "6007                    0                             0  Southpaw   \n",
       "6008                    0                             0  Southpaw   \n",
       "6009                    0                             0  Orthodox   \n",
       "6010                    0                             0  Orthodox   \n",
       "6011                    0                             0  Orthodox   \n",
       "\n",
       "      R_Height_cms  R_Reach_cms  R_Weight_lbs  B_age  R_age  \n",
       "0           170.18       177.80         135.0   31.0   27.0  \n",
       "1           182.88       187.96         185.0   32.0   28.0  \n",
       "2           187.96       190.50         264.0   32.0   28.0  \n",
       "3           160.02       160.02         115.0   28.0   25.0  \n",
       "4           167.64       172.72         135.0   29.0   43.0  \n",
       "...            ...          ...           ...    ...    ...  \n",
       "6007        190.50          NaN         260.0    NaN    NaN  \n",
       "6008        177.80          NaN         170.0    NaN    NaN  \n",
       "6009        182.88          NaN         210.0    NaN    NaN  \n",
       "6010        187.96          NaN         225.0    NaN   30.0  \n",
       "6011        177.80          NaN         210.0   18.0    NaN  \n",
       "\n",
       "[6012 rows x 144 columns]"
      ]
     },
     "execution_count": 2,
     "metadata": {},
     "output_type": "execute_result"
    }
   ],
   "source": [
    "df = pd.read_csv(\"../data/raw/raw_data.csv\")\n",
    "df"
   ]
  },
  {
   "cell_type": "markdown",
   "metadata": {},
   "source": [
    "# Milestone 3"
   ]
  },
  {
   "cell_type": "markdown",
   "metadata": {},
   "source": [
    "### Task 1: Conduct an Exploratory Data Analysis (EDA)"
   ]
  },
  {
   "cell_type": "code",
   "execution_count": 3,
   "metadata": {},
   "outputs": [
    {
     "name": "stdout",
     "output_type": "stream",
     "text": [
      "<class 'pandas.core.frame.DataFrame'>\n",
      "RangeIndex: 6012 entries, 0 to 6011\n",
      "Columns: 144 entries, R_fighter to R_age\n",
      "dtypes: bool(1), float64(106), int64(28), object(9)\n",
      "memory usage: 6.6+ MB\n"
     ]
    }
   ],
   "source": [
    "df.info() # find which data tyoes are used in the dataset and the class it's stored in. "
   ]
  },
  {
   "cell_type": "code",
   "execution_count": 4,
   "metadata": {},
   "outputs": [
    {
     "data": {
      "text/plain": [
       "(6012, 144)"
      ]
     },
     "execution_count": 4,
     "metadata": {},
     "output_type": "execute_result"
    }
   ],
   "source": [
    "df.shape # find the size of the dataframe."
   ]
  },
  {
   "cell_type": "code",
   "execution_count": 5,
   "metadata": {},
   "outputs": [
    {
     "data": {
      "text/html": [
       "<div>\n",
       "<style scoped>\n",
       "    .dataframe tbody tr th:only-of-type {\n",
       "        vertical-align: middle;\n",
       "    }\n",
       "\n",
       "    .dataframe tbody tr th {\n",
       "        vertical-align: top;\n",
       "    }\n",
       "\n",
       "    .dataframe thead th {\n",
       "        text-align: right;\n",
       "    }\n",
       "</style>\n",
       "<table border=\"1\" class=\"dataframe\">\n",
       "  <thead>\n",
       "    <tr style=\"text-align: right;\">\n",
       "      <th></th>\n",
       "      <th>count</th>\n",
       "      <th>mean</th>\n",
       "      <th>std</th>\n",
       "      <th>min</th>\n",
       "      <th>25%</th>\n",
       "      <th>50%</th>\n",
       "      <th>75%</th>\n",
       "      <th>max</th>\n",
       "    </tr>\n",
       "  </thead>\n",
       "  <tbody>\n",
       "    <tr>\n",
       "      <th>B_avg_KD</th>\n",
       "      <td>4585.0</td>\n",
       "      <td>0.247476</td>\n",
       "      <td>0.378509</td>\n",
       "      <td>0.0</td>\n",
       "      <td>0.000000</td>\n",
       "      <td>0.015625</td>\n",
       "      <td>0.5000</td>\n",
       "      <td>5.00</td>\n",
       "    </tr>\n",
       "    <tr>\n",
       "      <th>B_avg_opp_KD</th>\n",
       "      <td>4585.0</td>\n",
       "      <td>0.176818</td>\n",
       "      <td>0.324633</td>\n",
       "      <td>0.0</td>\n",
       "      <td>0.000000</td>\n",
       "      <td>0.000000</td>\n",
       "      <td>0.2500</td>\n",
       "      <td>3.00</td>\n",
       "    </tr>\n",
       "    <tr>\n",
       "      <th>B_avg_SIG_STR_pct</th>\n",
       "      <td>4585.0</td>\n",
       "      <td>0.453310</td>\n",
       "      <td>0.130458</td>\n",
       "      <td>0.0</td>\n",
       "      <td>0.376489</td>\n",
       "      <td>0.450000</td>\n",
       "      <td>0.5275</td>\n",
       "      <td>1.00</td>\n",
       "    </tr>\n",
       "    <tr>\n",
       "      <th>B_avg_opp_SIG_STR_pct</th>\n",
       "      <td>4585.0</td>\n",
       "      <td>0.434290</td>\n",
       "      <td>0.132618</td>\n",
       "      <td>0.0</td>\n",
       "      <td>0.351045</td>\n",
       "      <td>0.427500</td>\n",
       "      <td>0.5100</td>\n",
       "      <td>1.00</td>\n",
       "    </tr>\n",
       "    <tr>\n",
       "      <th>B_avg_TD_pct</th>\n",
       "      <td>4585.0</td>\n",
       "      <td>0.292650</td>\n",
       "      <td>0.273628</td>\n",
       "      <td>0.0</td>\n",
       "      <td>0.031250</td>\n",
       "      <td>0.250000</td>\n",
       "      <td>0.5000</td>\n",
       "      <td>1.00</td>\n",
       "    </tr>\n",
       "    <tr>\n",
       "      <th>...</th>\n",
       "      <td>...</td>\n",
       "      <td>...</td>\n",
       "      <td>...</td>\n",
       "      <td>...</td>\n",
       "      <td>...</td>\n",
       "      <td>...</td>\n",
       "      <td>...</td>\n",
       "      <td>...</td>\n",
       "    </tr>\n",
       "    <tr>\n",
       "      <th>R_Height_cms</th>\n",
       "      <td>6008.0</td>\n",
       "      <td>178.991788</td>\n",
       "      <td>8.812985</td>\n",
       "      <td>152.4</td>\n",
       "      <td>172.720000</td>\n",
       "      <td>180.340000</td>\n",
       "      <td>185.4200</td>\n",
       "      <td>210.82</td>\n",
       "    </tr>\n",
       "    <tr>\n",
       "      <th>R_Reach_cms</th>\n",
       "      <td>5606.0</td>\n",
       "      <td>183.562347</td>\n",
       "      <td>10.585313</td>\n",
       "      <td>152.4</td>\n",
       "      <td>177.800000</td>\n",
       "      <td>182.880000</td>\n",
       "      <td>190.5000</td>\n",
       "      <td>213.36</td>\n",
       "    </tr>\n",
       "    <tr>\n",
       "      <th>R_Weight_lbs</th>\n",
       "      <td>6010.0</td>\n",
       "      <td>170.686356</td>\n",
       "      <td>35.724626</td>\n",
       "      <td>115.0</td>\n",
       "      <td>145.000000</td>\n",
       "      <td>170.000000</td>\n",
       "      <td>185.0000</td>\n",
       "      <td>345.00</td>\n",
       "    </tr>\n",
       "    <tr>\n",
       "      <th>B_age</th>\n",
       "      <td>5840.0</td>\n",
       "      <td>29.293151</td>\n",
       "      <td>4.063297</td>\n",
       "      <td>18.0</td>\n",
       "      <td>26.000000</td>\n",
       "      <td>29.000000</td>\n",
       "      <td>32.0000</td>\n",
       "      <td>51.00</td>\n",
       "    </tr>\n",
       "    <tr>\n",
       "      <th>R_age</th>\n",
       "      <td>5949.0</td>\n",
       "      <td>29.598252</td>\n",
       "      <td>4.167755</td>\n",
       "      <td>19.0</td>\n",
       "      <td>27.000000</td>\n",
       "      <td>29.000000</td>\n",
       "      <td>32.0000</td>\n",
       "      <td>47.00</td>\n",
       "    </tr>\n",
       "  </tbody>\n",
       "</table>\n",
       "<p>134 rows × 8 columns</p>\n",
       "</div>"
      ],
      "text/plain": [
       "                        count        mean        std    min         25%  \\\n",
       "B_avg_KD               4585.0    0.247476   0.378509    0.0    0.000000   \n",
       "B_avg_opp_KD           4585.0    0.176818   0.324633    0.0    0.000000   \n",
       "B_avg_SIG_STR_pct      4585.0    0.453310   0.130458    0.0    0.376489   \n",
       "B_avg_opp_SIG_STR_pct  4585.0    0.434290   0.132618    0.0    0.351045   \n",
       "B_avg_TD_pct           4585.0    0.292650   0.273628    0.0    0.031250   \n",
       "...                       ...         ...        ...    ...         ...   \n",
       "R_Height_cms           6008.0  178.991788   8.812985  152.4  172.720000   \n",
       "R_Reach_cms            5606.0  183.562347  10.585313  152.4  177.800000   \n",
       "R_Weight_lbs           6010.0  170.686356  35.724626  115.0  145.000000   \n",
       "B_age                  5840.0   29.293151   4.063297   18.0   26.000000   \n",
       "R_age                  5949.0   29.598252   4.167755   19.0   27.000000   \n",
       "\n",
       "                              50%       75%     max  \n",
       "B_avg_KD                 0.015625    0.5000    5.00  \n",
       "B_avg_opp_KD             0.000000    0.2500    3.00  \n",
       "B_avg_SIG_STR_pct        0.450000    0.5275    1.00  \n",
       "B_avg_opp_SIG_STR_pct    0.427500    0.5100    1.00  \n",
       "B_avg_TD_pct             0.250000    0.5000    1.00  \n",
       "...                           ...       ...     ...  \n",
       "R_Height_cms           180.340000  185.4200  210.82  \n",
       "R_Reach_cms            182.880000  190.5000  213.36  \n",
       "R_Weight_lbs           170.000000  185.0000  345.00  \n",
       "B_age                   29.000000   32.0000   51.00  \n",
       "R_age                   29.000000   32.0000   47.00  \n",
       "\n",
       "[134 rows x 8 columns]"
      ]
     },
     "execution_count": 5,
     "metadata": {},
     "output_type": "execute_result"
    }
   ],
   "source": [
    "df.describe().T # find general statistics of the dataframe"
   ]
  },
  {
   "cell_type": "markdown",
   "metadata": {},
   "source": [
    "Lets explore the columns relevant to our research questions and find the range of possible column entries for each."
   ]
  },
  {
   "cell_type": "code",
   "execution_count": 6,
   "metadata": {},
   "outputs": [
    {
     "data": {
      "text/plain": [
       "array(['Red', 'Blue', 'Draw'], dtype=object)"
      ]
     },
     "metadata": {},
     "output_type": "display_data"
    },
    {
     "data": {
      "text/plain": [
       "array(['Adrian Yanez', 'Trevin Giles', 'Tai Tuivasa', ...,\n",
       "       'Jason DeLucia', 'Orlando Wiet', 'Scott Morris'], dtype=object)"
      ]
     },
     "metadata": {},
     "output_type": "display_data"
    },
    {
     "data": {
      "text/plain": [
       "array(['Gustavo Lopez', 'Roman Dolidze', 'Harry Hunsucker', ...,\n",
       "       'David Levicki', 'Ray Wizard', 'Sean Daugherty'], dtype=object)"
      ]
     },
     "metadata": {},
     "output_type": "display_data"
    },
    {
     "data": {
      "text/plain": [
       "array([ 0,  2,  1,  5,  6,  3,  4, 10,  9, 11, 13,  7,  8, 12],\n",
       "      dtype=int64)"
      ]
     },
     "metadata": {},
     "output_type": "display_data"
    },
    {
     "data": {
      "text/plain": [
       "array([ 1,  0,  2,  4,  3,  5, 14,  6, 13,  9,  7, 11,  8], dtype=int64)"
      ]
     },
     "metadata": {},
     "output_type": "display_data"
    },
    {
     "data": {
      "text/plain": [
       "array([170.18, 182.88, 187.96, 160.02, 167.64, 185.42, 177.8 , 165.1 ,\n",
       "       190.5 , 175.26, 172.72, 162.56, 195.58, 193.04, 180.34, 154.94,\n",
       "       157.48, 198.12, 200.66, 210.82, 152.4 ,    nan, 203.2 , 208.28])"
      ]
     },
     "metadata": {},
     "output_type": "display_data"
    },
    {
     "data": {
      "text/plain": [
       "array([165.1 , 187.96, 152.4 , 180.34, 177.8 , 190.5 , 170.18, 167.64,\n",
       "       195.58, 172.72, 182.88, 160.02, 193.04, 162.56, 175.26, 185.42,\n",
       "       200.66, 198.12, 154.94, 157.48, 210.82, 203.2 ,    nan, 208.28])"
      ]
     },
     "metadata": {},
     "output_type": "display_data"
    },
    {
     "data": {
      "text/plain": [
       "array(['Bantamweight', 'Middleweight', 'Heavyweight', 'WomenStrawweight',\n",
       "       'WomenBantamweight', 'Lightweight', 'Welterweight', 'Flyweight',\n",
       "       'LightHeavyweight', 'Featherweight', 'WomenFlyweight',\n",
       "       'WomenFeatherweight', 'CatchWeight', 'OpenWeight'], dtype=object)"
      ]
     },
     "metadata": {},
     "output_type": "display_data"
    },
    {
     "data": {
      "text/plain": [
       "array([27., 28., 25., 43., 41., 31., 37., 34., 29., 33., 36., 26., 35.,\n",
       "       23., 38., 32., 30., 42., 22., 40., 24., 21., 39., 20., 44., 19.,\n",
       "       45., nan, 47., 46.])"
      ]
     },
     "metadata": {},
     "output_type": "display_data"
    },
    {
     "data": {
      "text/plain": [
       "array([31., 32., 28., 29., 27., 35., 24., 30., 33., 34., 26., 25., 23.,\n",
       "       36., 39., 40., 37., 41., 21., 45., 38., 22., 43., 44., 20., 42.,\n",
       "       19., 46., nan, 47., 18., 51.])"
      ]
     },
     "metadata": {},
     "output_type": "display_data"
    }
   ],
   "source": [
    "display(df['Winner'].unique())\n",
    "display(df['R_fighter'].unique())\n",
    "display(df['B_fighter'].unique())\n",
    "display(df['R_win_by_Submission'].unique())\n",
    "display(df['B_win_by_Submission'].unique())\n",
    "display(df['R_Height_cms'].unique())\n",
    "display(df['B_Height_cms'].unique())\n",
    "display(df['weight_class'].unique())\n",
    "display(df['R_age'].unique())\n",
    "display(df['B_age'].unique())"
   ]
  },
  {
   "cell_type": "markdown",
   "metadata": {},
   "source": [
    "The above output describes all possible values in each column and the datatype if only one exists. For instance, the Winner column has possible values Red, Blue, or Draw and is type object. The output also tell us we have missing data (nan values) in some of our columns, which is an indicator we may want to drop the corresponding rows from the dataset.   "
   ]
  },
  {
   "cell_type": "code",
   "execution_count": 7,
   "metadata": {},
   "outputs": [
    {
     "data": {
      "text/plain": [
       "<matplotlib.legend.Legend at 0x200e04ff310>"
      ]
     },
     "execution_count": 7,
     "metadata": {},
     "output_type": "execute_result"
    },
    {
     "data": {
      "image/png": "[encoded data removed]",
      "text/plain": [
       "<Figure size 640x480 with 1 Axes>"
      ]
     },
     "metadata": {},
     "output_type": "display_data"
    }
   ],
   "source": [
    "# barplot of the number of fights in each weight division\n",
    "x = (df['weight_class'].value_counts())\n",
    "\n",
    "div_fight = pd.DataFrame(x)\n",
    "div_fight['division'] = div_fight.index\n",
    "div_fight = div_fight.rename(columns={'weight_class':'num_fights'})\n",
    "ax = sns.barplot(data=div_fight, x ='division', y='num_fights',palette='dark')\n",
    "\n",
    "ax.set (\n",
    "    title = 'Number of Fights under each UFC Weight Division',\n",
    "    xlabel = 'Weight Division',\n",
    "    ylabel = 'Number of Fights'\n",
    ")\n",
    "\n",
    "plt.legend(list(div_fight['division']))"
   ]
  },
  {
   "cell_type": "markdown",
   "metadata": {},
   "source": [
    "The above figure describes the distrubition of fight data for each weight divisions. The data set contains the most number of fights for the lightweight and welterweight divisions, and does not contain many fights for the female divisions. "
   ]
  },
  {
   "cell_type": "code",
   "execution_count": 8,
   "metadata": {},
   "outputs": [
    {
     "data": {
      "text/plain": [
       "<seaborn.axisgrid.FacetGrid at 0x20081b63b50>"
      ]
     },
     "execution_count": 8,
     "metadata": {},
     "output_type": "execute_result"
    },
    {
     "data": {
      "image/png": "[encoded data removed]",
      "text/plain": [
       "<Figure size 576x500 with 1 Axes>"
      ]
     },
     "metadata": {},
     "output_type": "display_data"
    }
   ],
   "source": [
    "# displot of fighter age\n",
    "age2 = df['B_age']\n",
    "age1 = df['R_age']\n",
    "\n",
    "age = pd.concat([age1,age2],axis=0).dropna().reset_index().drop(columns = 'index').rename(columns = {0:'age'})\n",
    "ax = sns.displot(data = age, palette='dark')\n",
    "\n",
    "ax.set (\n",
    "    title = 'UFC Fighter Age Distribution',\n",
    "    xlabel = 'Age',\n",
    "    ylabel = 'Number of Fighters'\n",
    ")"
   ]
  },
  {
   "cell_type": "markdown",
   "metadata": {},
   "source": [
    "The above figure describes the distribution of age amoung the UFC data set. Based on observation, the most common UFC fighter age is approximately 29 years old."
   ]
  },
  {
   "cell_type": "code",
   "execution_count": 9,
   "metadata": {},
   "outputs": [
    {
     "data": {
      "text/plain": [
       "[Text(0.5, 1.0, 'UFC Fighter Height Distribution'),\n",
       " Text(0, 0.5, 'Number of Fighters')]"
      ]
     },
     "execution_count": 9,
     "metadata": {},
     "output_type": "execute_result"
    },
    {
     "data": {
      "image/png": "[encoded data removed]",
      "text/plain": [
       "<Figure size 640x480 with 1 Axes>"
      ]
     },
     "metadata": {},
     "output_type": "display_data"
    }
   ],
   "source": [
    "# displot of fighter height\n",
    "height1 = df['R_Height_cms']\n",
    "height2 = df['B_Height_cms']\n",
    "\n",
    "height = pd.concat([height1,height2],axis=0).dropna().reset_index().drop(columns = 'index').rename(columns = {0:'Height'})\n",
    "ax = sns.kdeplot(data = height)\n",
    "\n",
    "ax.set (\n",
    "    title = 'UFC Fighter Height Distribution',\n",
    "    ylabel = 'Number of Fighters'\n",
    ")"
   ]
  },
  {
   "cell_type": "markdown",
   "metadata": {},
   "source": [
    "The figure above describes the probability of height amoung the UFC data set. Based on observation, the most probable UFC fighter height is approximately 183 centimeters."
   ]
  },
  {
   "cell_type": "markdown",
   "metadata": {},
   "source": [
    "### Task 2: Data Analysis Pipeline\n",
    "1. Load Data\n",
    "2. Clean Data\n",
    "3. Process Data"
   ]
  },
  {
   "cell_type": "code",
   "execution_count": 57,
   "metadata": {},
   "outputs": [
    {
     "data": {
      "text/html": [
       "<div>\n",
       "<style scoped>\n",
       "    .dataframe tbody tr th:only-of-type {\n",
       "        vertical-align: middle;\n",
       "    }\n",
       "\n",
       "    .dataframe tbody tr th {\n",
       "        vertical-align: top;\n",
       "    }\n",
       "\n",
       "    .dataframe thead th {\n",
       "        text-align: right;\n",
       "    }\n",
       "</style>\n",
       "<table border=\"1\" class=\"dataframe\">\n",
       "  <thead>\n",
       "    <tr style=\"text-align: right;\">\n",
       "      <th></th>\n",
       "      <th>winner</th>\n",
       "      <th>r_fighter</th>\n",
       "      <th>b_fighter</th>\n",
       "      <th>weight_class</th>\n",
       "      <th>r_age</th>\n",
       "      <th>b_age</th>\n",
       "      <th>r_height_in</th>\n",
       "      <th>b_height_in</th>\n",
       "      <th>r_submission_w</th>\n",
       "      <th>b_submission_w</th>\n",
       "    </tr>\n",
       "  </thead>\n",
       "  <tbody>\n",
       "    <tr>\n",
       "      <th>0</th>\n",
       "      <td>Red</td>\n",
       "      <td>Adrian Yanez</td>\n",
       "      <td>Gustavo Lopez</td>\n",
       "      <td>Bantamweight</td>\n",
       "      <td>27.0</td>\n",
       "      <td>31.0</td>\n",
       "      <td>67.000036</td>\n",
       "      <td>65.000035</td>\n",
       "      <td>0</td>\n",
       "      <td>1</td>\n",
       "    </tr>\n",
       "    <tr>\n",
       "      <th>1</th>\n",
       "      <td>Red</td>\n",
       "      <td>Trevin Giles</td>\n",
       "      <td>Roman Dolidze</td>\n",
       "      <td>Middleweight</td>\n",
       "      <td>28.0</td>\n",
       "      <td>32.0</td>\n",
       "      <td>72.000039</td>\n",
       "      <td>74.000040</td>\n",
       "      <td>0</td>\n",
       "      <td>0</td>\n",
       "    </tr>\n",
       "    <tr>\n",
       "      <th>2</th>\n",
       "      <td>Red</td>\n",
       "      <td>Tai Tuivasa</td>\n",
       "      <td>Harry Hunsucker</td>\n",
       "      <td>Heavyweight</td>\n",
       "      <td>28.0</td>\n",
       "      <td>32.0</td>\n",
       "      <td>74.000040</td>\n",
       "      <td>74.000040</td>\n",
       "      <td>0</td>\n",
       "      <td>0</td>\n",
       "    </tr>\n",
       "    <tr>\n",
       "      <th>3</th>\n",
       "      <td>Blue</td>\n",
       "      <td>Cheyanne Buys</td>\n",
       "      <td>Montserrat Conejo</td>\n",
       "      <td>WomenStrawweight</td>\n",
       "      <td>25.0</td>\n",
       "      <td>28.0</td>\n",
       "      <td>63.000034</td>\n",
       "      <td>60.000032</td>\n",
       "      <td>0</td>\n",
       "      <td>0</td>\n",
       "    </tr>\n",
       "    <tr>\n",
       "      <th>4</th>\n",
       "      <td>Blue</td>\n",
       "      <td>Marion Reneau</td>\n",
       "      <td>Macy Chiasson</td>\n",
       "      <td>WomenBantamweight</td>\n",
       "      <td>43.0</td>\n",
       "      <td>29.0</td>\n",
       "      <td>66.000036</td>\n",
       "      <td>71.000038</td>\n",
       "      <td>2</td>\n",
       "      <td>1</td>\n",
       "    </tr>\n",
       "    <tr>\n",
       "      <th>5</th>\n",
       "      <td>Blue</td>\n",
       "      <td>Leonardo Santos</td>\n",
       "      <td>Grant Dawson</td>\n",
       "      <td>Lightweight</td>\n",
       "      <td>41.0</td>\n",
       "      <td>27.0</td>\n",
       "      <td>72.000039</td>\n",
       "      <td>70.000038</td>\n",
       "      <td>2</td>\n",
       "      <td>2</td>\n",
       "    </tr>\n",
       "    <tr>\n",
       "      <th>6</th>\n",
       "      <td>Blue</td>\n",
       "      <td>Song Kenan</td>\n",
       "      <td>Max Griffin</td>\n",
       "      <td>Welterweight</td>\n",
       "      <td>31.0</td>\n",
       "      <td>35.0</td>\n",
       "      <td>72.000039</td>\n",
       "      <td>71.000038</td>\n",
       "      <td>0</td>\n",
       "      <td>0</td>\n",
       "    </tr>\n",
       "    <tr>\n",
       "      <th>7</th>\n",
       "      <td>Red</td>\n",
       "      <td>Derek Brunson</td>\n",
       "      <td>Kevin Holland</td>\n",
       "      <td>Middleweight</td>\n",
       "      <td>37.0</td>\n",
       "      <td>28.0</td>\n",
       "      <td>73.000039</td>\n",
       "      <td>75.000041</td>\n",
       "      <td>1</td>\n",
       "      <td>2</td>\n",
       "    </tr>\n",
       "    <tr>\n",
       "      <th>8</th>\n",
       "      <td>Red</td>\n",
       "      <td>Montel Jackson</td>\n",
       "      <td>Jesse Strader</td>\n",
       "      <td>Bantamweight</td>\n",
       "      <td>28.0</td>\n",
       "      <td>29.0</td>\n",
       "      <td>70.000038</td>\n",
       "      <td>67.000036</td>\n",
       "      <td>1</td>\n",
       "      <td>0</td>\n",
       "    </tr>\n",
       "    <tr>\n",
       "      <th>9</th>\n",
       "      <td>Red</td>\n",
       "      <td>Bruno Silva</td>\n",
       "      <td>JP Buys</td>\n",
       "      <td>Flyweight</td>\n",
       "      <td>31.0</td>\n",
       "      <td>24.0</td>\n",
       "      <td>72.000039</td>\n",
       "      <td>65.000035</td>\n",
       "      <td>0</td>\n",
       "      <td>0</td>\n",
       "    </tr>\n",
       "  </tbody>\n",
       "</table>\n",
       "</div>"
      ],
      "text/plain": [
       "  winner        r_fighter          b_fighter       weight_class  r_age  b_age  \\\n",
       "0    Red     Adrian Yanez      Gustavo Lopez       Bantamweight   27.0   31.0   \n",
       "1    Red     Trevin Giles      Roman Dolidze       Middleweight   28.0   32.0   \n",
       "2    Red      Tai Tuivasa    Harry Hunsucker        Heavyweight   28.0   32.0   \n",
       "3   Blue    Cheyanne Buys  Montserrat Conejo   WomenStrawweight   25.0   28.0   \n",
       "4   Blue    Marion Reneau      Macy Chiasson  WomenBantamweight   43.0   29.0   \n",
       "5   Blue  Leonardo Santos       Grant Dawson        Lightweight   41.0   27.0   \n",
       "6   Blue       Song Kenan        Max Griffin       Welterweight   31.0   35.0   \n",
       "7    Red    Derek Brunson      Kevin Holland       Middleweight   37.0   28.0   \n",
       "8    Red   Montel Jackson      Jesse Strader       Bantamweight   28.0   29.0   \n",
       "9    Red      Bruno Silva            JP Buys          Flyweight   31.0   24.0   \n",
       "\n",
       "   r_height_in  b_height_in  r_submission_w  b_submission_w  \n",
       "0    67.000036    65.000035               0               1  \n",
       "1    72.000039    74.000040               0               0  \n",
       "2    74.000040    74.000040               0               0  \n",
       "3    63.000034    60.000032               0               0  \n",
       "4    66.000036    71.000038               2               1  \n",
       "5    72.000039    70.000038               2               2  \n",
       "6    72.000039    71.000038               0               0  \n",
       "7    73.000039    75.000041               1               2  \n",
       "8    70.000038    67.000036               1               0  \n",
       "9    72.000039    65.000035               0               0  "
      ]
     },
     "execution_count": 57,
     "metadata": {},
     "output_type": "execute_result"
    }
   ],
   "source": [
    "# import the raw data set (comma delimeted file)\n",
    "df = pd.read_csv(\"../data/raw/raw_data.csv\")\n",
    "\n",
    "# create dataframe using only the relevant columns to the research questions from the raw data set 'df'.\n",
    "df_clean = pd.concat(\n",
    "    [df['Winner'],df['R_fighter'],df['B_fighter'],df['weight_class'],df['R_age'],df['B_age'],df['R_Height_cms'],df['B_Height_cms'],df['R_win_by_Submission'],df['B_win_by_Submission']],\n",
    "    axis = 1\n",
    ")\n",
    "\n",
    "# remove all rows containing NaN values, create new index column and remove the old, then rename column keys to desired format\n",
    "df_clean = df_clean.dropna().rename(columns={\n",
    "    'Winner':'winner',\n",
    "    'R_fighter':'r_fighter','B_fighter':'b_fighter',\n",
    "    'R_age':'r_age','B_age':'b_age',\n",
    "    'R_Height_cms':'r_height_in','B_Height_cms':'b_height_in',\n",
    "    'R_win_by_Submission':'r_submission_w','B_win_by_Submission':'b_submission_w'\n",
    "    })\n",
    "df_clean = df_clean.drop(df_clean[df_clean['winner']=='Draw'].index).reset_index().drop(columns='index')\n",
    "\n",
    "df_processed = df_clean.copy()\n",
    "\n",
    "# convert values in height columns from centimeters to inches\n",
    "df_processed['r_height_in'] = [df_processed['r_height_in'][i]*(0.393701) for i in range(len(df_processed['r_height_in']))]\n",
    "df_processed['b_height_in'] = [df_processed['b_height_in'][i]*(0.393701) for i in range(len(df_processed['r_height_in']))]\n",
    "\n",
    "# convert winner column from object to type integer\n",
    "#df_processed['winner'] = [(df_processed['winner'].replace({'Red':1}) if df_processed['winner'][i] == 'Red' else df_processed['winner'][i] != 0) for i in range(len(df_processed['winner']))]\n",
    "\n",
    "df_processed.head(10)"
   ]
  },
  {
   "cell_type": "markdown",
   "metadata": {},
   "source": [
    "### Task 3: Method Chaining"
   ]
  },
  {
   "cell_type": "code",
   "execution_count": null,
   "metadata": {},
   "outputs": [],
   "source": [
    "# make function in seperate .py file that conducts an analysis pipeline via method chaining"
   ]
  },
  {
   "cell_type": "markdown",
   "metadata": {},
   "source": [
    "### Task 4: Data Analysis "
   ]
  }
 ],
 "metadata": {
  "kernelspec": {
   "display_name": "Python 3.10.5 64-bit",
   "language": "python",
   "name": "python3"
  },
  "language_info": {
   "codemirror_mode": {
    "name": "ipython",
    "version": 3
   },
   "file_extension": ".py",
   "mimetype": "text/x-python",
   "name": "python",
   "nbconvert_exporter": "python",
   "pygments_lexer": "ipython3",
   "version": "3.10.5"
  },
  "orig_nbformat": 4,
  "vscode": {
   "interpreter": {
    "hash": "42165681ab10b1bf977adfd89e4bba52bb1422075634ab4a5613df7b4316a888"
   }
  }
 },
 "nbformat": 4,
 "nbformat_minor": 2
}
