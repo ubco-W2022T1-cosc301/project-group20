{
 "cells": [
  {
   "cell_type": "markdown",
   "metadata": {},
   "source": [
    "# Zach Kelly"
   ]
  },
  {
   "cell_type": "markdown",
   "metadata": {},
   "source": [
    "## research question/interests\n",
    "\n",
    "The objective behind this repository is to train a machine learning model using a set of fighter statistics to predict score outcomes of future ufc bouts. \n",
    "\n",
    "The desired learning outcomes are the following:\n",
    "- learn how to handle large data sets with python.\n",
    "- further learn how to formulate problems concerning machine learning.  \n",
    "- further understand the challenges of training a successful machine learning model. "
   ]
  },
  {
   "cell_type": "markdown",
   "metadata": {},
   "source": [
    "## import raw data with pandas"
   ]
  },
  {
   "cell_type": "code",
   "execution_count": 13,
   "metadata": {},
   "outputs": [],
   "source": [
    "import numpy as np\n",
    "import pandas as pd\n",
    "\n",
    "r_data = pd.read_csv(\"../data/raw/raw_data.csv\")"
   ]
  }
 ],
 "metadata": {
  "kernelspec": {
   "display_name": "Python 3.10.5 64-bit",
   "language": "python",
   "name": "python3"
  },
  "language_info": {
   "codemirror_mode": {
    "name": "ipython",
    "version": 3
   },
   "file_extension": ".py",
   "mimetype": "text/x-python",
   "name": "python",
   "nbconvert_exporter": "python",
   "pygments_lexer": "ipython3",
   "version": "3.10.5"
  },
  "orig_nbformat": 4,
  "vscode": {
   "interpreter": {
    "hash": "42165681ab10b1bf977adfd89e4bba52bb1422075634ab4a5613df7b4316a888"
   }
  }
 },
 "nbformat": 4,
 "nbformat_minor": 2
}
