{
 "cells": [
  {
   "cell_type": "markdown",
   "metadata": {},
   "source": [
    "Zach Kelly"
   ]
  },
  {
   "cell_type": "markdown",
   "metadata": {},
   "source": [
    "## Research question/interests\n",
    "\n",
    "The objective behind this repository is to train a machine learning model using a set of fighter statistics to predict score outcomes of future ufc bouts. \n",
    "\n",
    "The desired learning outcomes are the following:\n",
    "learn how to handle large data sets with python\n",
    "gain experince applying machine learning algorithms\n",
    "further understand the challenges and limitations of training a successful machine learning model. "
   ]
  },
  {
   "cell_type": "code",
   "execution_count": null,
   "metadata": {},
   "outputs": [],
   "source": [
    "import numpy as np\n",
    "import pandas as pd\n",
    "\n",
    "p_data = pd.read_csv(\"raw_data.csv\")"
   ]
  }
 ],
 "metadata": {
  "language_info": {
   "name": "plaintext"
  },
  "orig_nbformat": 4
 },
 "nbformat": 4,
 "nbformat_minor": 2
}
